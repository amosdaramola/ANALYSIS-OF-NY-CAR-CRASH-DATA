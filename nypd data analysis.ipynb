{
 "cells": [
  {
   "cell_type": "code",
   "execution_count": 1,
   "metadata": {},
   "outputs": [
    {
     "name": "stdout",
     "output_type": "stream",
     "text": [
      "   unique_key        date   time    borough                location  \\\n",
      "0     3869058  2018-03-23  21:40  MANHATTAN  (40.742832, -74.00771)   \n",
      "1     3847947  2018-02-13  14:45   BROOKLYN  (40.623714, -73.99314)   \n",
      "2     3914294  2018-06-04   0:00        NaN   (40.591755, -73.9083)   \n",
      "3     3915069  2018-06-05   6:36     QUEENS   (40.73602, -73.87954)   \n",
      "4     3923123  2018-06-16  15:45      BRONX  (40.884727, -73.89945)   \n",
      "\n",
      "                          on_street    cross_street  \\\n",
      "0  WEST 15 STREET                         10 AVENUE   \n",
      "1  16 AVENUE                              62 STREET   \n",
      "2  BELT PARKWAY                                 NaN   \n",
      "3  GRAND AVENUE                      VANLOON STREET   \n",
      "4                               NaN             NaN   \n",
      "\n",
      "                                 off_street  pedestrians_injured  \\\n",
      "0                                       NaN                    0   \n",
      "1                                       NaN                    0   \n",
      "2                                       NaN                    0   \n",
      "3                                       NaN                    0   \n",
      "4  208       WEST 238 STREET                                   0   \n",
      "\n",
      "   cyclist_injured  ...                            vehicle_1  vehicle_2  \\\n",
      "0                0  ...                    PASSENGER VEHICLE        NaN   \n",
      "1                0  ...        SPORT UTILITY / STATION WAGON         DS   \n",
      "2                0  ...  Station Wagon/Sport Utility Vehicle      Sedan   \n",
      "3                0  ...                                Sedan      Sedan   \n",
      "4                0  ...  Station Wagon/Sport Utility Vehicle      Sedan   \n",
      "\n",
      "   vehicle_3  vehicle_4  vehicle_5        cause_vehicle_1  \\\n",
      "0        NaN        NaN        NaN  Following Too Closely   \n",
      "1        NaN        NaN        NaN       Backing Unsafely   \n",
      "2        NaN        NaN        NaN  Following Too Closely   \n",
      "3        NaN        NaN        NaN                  Glare   \n",
      "4        NaN        NaN        NaN     Turning Improperly   \n",
      "\n",
      "       cause_vehicle_2 cause_vehicle_3 cause_vehicle_4 cause_vehicle_5  \n",
      "0          Unspecified             NaN             NaN             NaN  \n",
      "1          Unspecified             NaN             NaN             NaN  \n",
      "2          Unspecified             NaN             NaN             NaN  \n",
      "3  Passing Too Closely             NaN             NaN             NaN  \n",
      "4          Unspecified             NaN             NaN             NaN  \n",
      "\n",
      "[5 rows x 26 columns]\n",
      "\n",
      "<class 'pandas.core.frame.DataFrame'>\n",
      "RangeIndex: 57864 entries, 0 to 57863\n",
      "Data columns (total 26 columns):\n",
      " #   Column               Non-Null Count  Dtype  \n",
      "---  ------               --------------  -----  \n",
      " 0   unique_key           57864 non-null  int64  \n",
      " 1   date                 57864 non-null  object \n",
      " 2   time                 57864 non-null  object \n",
      " 3   borough              37218 non-null  object \n",
      " 4   location             53979 non-null  object \n",
      " 5   on_street            43903 non-null  object \n",
      " 6   cross_street         28615 non-null  object \n",
      " 7   off_street           13771 non-null  object \n",
      " 8   pedestrians_injured  57864 non-null  int64  \n",
      " 9   cyclist_injured      57864 non-null  int64  \n",
      " 10  motorist_injured     57864 non-null  int64  \n",
      " 11  total_injured        57863 non-null  float64\n",
      " 12  pedestrians_killed   57864 non-null  int64  \n",
      " 13  cyclist_killed       57864 non-null  int64  \n",
      " 14  motorist_killed      57864 non-null  int64  \n",
      " 15  total_killed         57859 non-null  float64\n",
      " 16  vehicle_1            57509 non-null  object \n",
      " 17  vehicle_2            45602 non-null  object \n",
      " 18  vehicle_3            3512 non-null   object \n",
      " 19  vehicle_4            706 non-null    object \n",
      " 20  vehicle_5            183 non-null    object \n",
      " 21  cause_vehicle_1      57689 non-null  object \n",
      " 22  cause_vehicle_2      49172 non-null  object \n",
      " 23  cause_vehicle_3      3730 non-null   object \n",
      " 24  cause_vehicle_4      753 non-null    object \n",
      " 25  cause_vehicle_5      193 non-null    object \n",
      "dtypes: float64(2), int64(7), object(17)\n",
      "memory usage: 11.5+ MB\n",
      "None\n",
      "\n",
      "(57864, 26)\n"
     ]
    }
   ],
   "source": [
    "import pandas as pd\n",
    "import numpy as np\n",
    "mvc = pd.read_csv('nypd_mvc_2018.csv')\n",
    "print(mvc.head())\n",
    "print()\n",
    "print(mvc.info())\n",
    "print()\n",
    "print(mvc.shape)"
   ]
  },
  {
   "cell_type": "markdown",
   "metadata": {},
   "source": [
    "The dataset has 57,864 rows and 26 columns. Some of the columns which are important for our analysis has a high numbers of null values.\n",
    "So it is very difficult to drop the columns,tjherefore they will be filled\n"
   ]
  },
  {
   "cell_type": "code",
   "execution_count": 2,
   "metadata": {},
   "outputs": [
    {
     "name": "stdout",
     "output_type": "stream",
     "text": [
      "Index(['unique_key', 'date', 'time', 'borough', 'location', 'on_street',\n",
      "       'cross_street', 'off_street', 'pedestrians_injured', 'cyclist_injured',\n",
      "       'motorist_injured', 'total_injured', 'pedestrians_killed',\n",
      "       'cyclist_killed', 'motorist_killed', 'total_killed', 'vehicle_1',\n",
      "       'vehicle_2', 'vehicle_3', 'vehicle_4', 'vehicle_5', 'cause_vehicle_1',\n",
      "       'cause_vehicle_2', 'cause_vehicle_3', 'cause_vehicle_4',\n",
      "       'cause_vehicle_5'],\n",
      "      dtype='object')\n"
     ]
    }
   ],
   "source": [
    "print(mvc.columns)"
   ]
  },
  {
   "cell_type": "markdown",
   "metadata": {},
   "source": [
    "These are the columns name"
   ]
  },
  {
   "cell_type": "code",
   "execution_count": 3,
   "metadata": {},
   "outputs": [
    {
     "name": "stdout",
     "output_type": "stream",
     "text": [
      "unique_key                 0\n",
      "date                       0\n",
      "time                       0\n",
      "borough                20646\n",
      "location                3885\n",
      "on_street              13961\n",
      "cross_street           29249\n",
      "off_street             44093\n",
      "pedestrians_injured        0\n",
      "cyclist_injured            0\n",
      "motorist_injured           0\n",
      "total_injured              1\n",
      "pedestrians_killed         0\n",
      "cyclist_killed             0\n",
      "motorist_killed            0\n",
      "total_killed               5\n",
      "vehicle_1                355\n",
      "vehicle_2              12262\n",
      "vehicle_3              54352\n",
      "vehicle_4              57158\n",
      "vehicle_5              57681\n",
      "cause_vehicle_1          175\n",
      "cause_vehicle_2         8692\n",
      "cause_vehicle_3        54134\n",
      "cause_vehicle_4        57111\n",
      "cause_vehicle_5        57671\n",
      "dtype: int64\n"
     ]
    }
   ],
   "source": [
    "null_count = mvc.isnull().sum()\n",
    "print(null_count)"
   ]
  },
  {
   "cell_type": "markdown",
   "metadata": {},
   "source": [
    "To give us a better picture of the null values in the data, let's calculate the percentage of null values in each column"
   ]
  },
  {
   "cell_type": "code",
   "execution_count": 4,
   "metadata": {},
   "outputs": [
    {
     "name": "stdout",
     "output_type": "stream",
     "text": [
      "unique_key              0.000000\n",
      "date                    0.000000\n",
      "time                    0.000000\n",
      "borough                35.680216\n",
      "location                6.714019\n",
      "on_street              24.127264\n",
      "cross_street           50.547836\n",
      "off_street             76.201092\n",
      "pedestrians_injured     0.000000\n",
      "cyclist_injured         0.000000\n",
      "motorist_injured        0.000000\n",
      "total_injured           0.001728\n",
      "pedestrians_killed      0.000000\n",
      "cyclist_killed          0.000000\n",
      "motorist_killed         0.000000\n",
      "total_killed            0.008641\n",
      "vehicle_1               0.613508\n",
      "vehicle_2              21.191069\n",
      "vehicle_3              93.930596\n",
      "vehicle_4              98.779898\n",
      "vehicle_5              99.683741\n",
      "cause_vehicle_1         0.302433\n",
      "cause_vehicle_2        15.021430\n",
      "cause_vehicle_3        93.553850\n",
      "cause_vehicle_4        98.698673\n",
      "cause_vehicle_5        99.666459\n",
      "dtype: float64\n"
     ]
    }
   ],
   "source": [
    "null_pct = null_count / mvc.shape[0] * 100\n",
    "print(null_pct)"
   ]
  },
  {
   "cell_type": "markdown",
   "metadata": {},
   "source": [
    "Putting the null count and null percentage in a dataframe for better understanding\n"
   ]
  },
  {
   "cell_type": "code",
   "execution_count": 5,
   "metadata": {},
   "outputs": [
    {
     "name": "stdout",
     "output_type": "stream",
     "text": [
      "                     null_count   null_pct\n",
      "unique_key                    0   0.000000\n",
      "date                          0   0.000000\n",
      "time                          0   0.000000\n",
      "borough                   20646  35.680216\n",
      "location                   3885   6.714019\n",
      "on_street                 13961  24.127264\n",
      "cross_street              29249  50.547836\n",
      "off_street                44093  76.201092\n",
      "pedestrians_injured           0   0.000000\n",
      "cyclist_injured               0   0.000000\n",
      "motorist_injured              0   0.000000\n",
      "total_injured                 1   0.001728\n",
      "pedestrians_killed            0   0.000000\n",
      "cyclist_killed                0   0.000000\n",
      "motorist_killed               0   0.000000\n",
      "total_killed                  5   0.008641\n",
      "vehicle_1                   355   0.613508\n",
      "vehicle_2                 12262  21.191069\n",
      "vehicle_3                 54352  93.930596\n",
      "vehicle_4                 57158  98.779898\n",
      "vehicle_5                 57681  99.683741\n",
      "cause_vehicle_1             175   0.302433\n",
      "cause_vehicle_2            8692  15.021430\n",
      "cause_vehicle_3           54134  93.553850\n",
      "cause_vehicle_4           57111  98.698673\n",
      "cause_vehicle_5           57671  99.666459\n"
     ]
    }
   ],
   "source": [
    "null_df = pd.DataFrame({'null_count' : null_count, 'null_pct' : null_pct})\n",
    "print(null_df)"
   ]
  },
  {
   "cell_type": "code",
   "execution_count": 6,
   "metadata": {},
   "outputs": [
    {
     "name": "stdout",
     "output_type": "stream",
     "text": [
      "            unique_key  date  time  borough  location  on_street  \\\n",
      "null_count           0     0     0    20646      3885      13961   \n",
      "null_pct             0     0     0       35         6         24   \n",
      "\n",
      "            cross_street  off_street  pedestrians_injured  cyclist_injured  \\\n",
      "null_count         29249       44093                    0                0   \n",
      "null_pct              50          76                    0                0   \n",
      "\n",
      "            ...  vehicle_1  vehicle_2  vehicle_3  vehicle_4  vehicle_5  \\\n",
      "null_count  ...        355      12262      54352      57158      57681   \n",
      "null_pct    ...          0         21         93         98         99   \n",
      "\n",
      "            cause_vehicle_1  cause_vehicle_2  cause_vehicle_3  \\\n",
      "null_count              175             8692            54134   \n",
      "null_pct                  0               15               93   \n",
      "\n",
      "            cause_vehicle_4  cause_vehicle_5  \n",
      "null_count            57111            57671  \n",
      "null_pct                 98               99  \n",
      "\n",
      "[2 rows x 26 columns]\n"
     ]
    }
   ],
   "source": [
    "print(null_df.T.astype(int))"
   ]
  },
  {
   "cell_type": "markdown",
   "metadata": {},
   "source": [
    "About a third of the columns have no null values, with the rest ranging from less than 1% to 99%\n",
    "Some of the columns has up to 99 percent null values. More investigation is needed on these columns"
   ]
  },
  {
   "cell_type": "markdown",
   "metadata": {},
   "source": [
    "Investigating the killed columns"
   ]
  },
  {
   "cell_type": "code",
   "execution_count": 7,
   "metadata": {},
   "outputs": [],
   "source": [
    "killed_cols = [col for col in mvc.columns if 'killed' in col]\n",
    "killed = mvc[killed_cols]\n",
    "killed = killed.copy()\n"
   ]
  },
  {
   "cell_type": "markdown",
   "metadata": {},
   "source": [
    "To find out the row where the sum of the other killed columns is not equal to the total killed colum"
   ]
  },
  {
   "cell_type": "code",
   "execution_count": 8,
   "metadata": {},
   "outputs": [
    {
     "name": "stdout",
     "output_type": "stream",
     "text": [
      "0        0\n",
      "1        0\n",
      "2        0\n",
      "3        0\n",
      "4        0\n",
      "        ..\n",
      "57859    0\n",
      "57860    0\n",
      "57861    0\n",
      "57862    0\n",
      "57863    0\n",
      "Length: 57864, dtype: int64\n"
     ]
    }
   ],
   "source": [
    "manual_killed_sum = killed.iloc[:,:3].sum(axis=1)\n",
    "print(manual_killed_sum)"
   ]
  },
  {
   "cell_type": "code",
   "execution_count": 9,
   "metadata": {},
   "outputs": [
    {
     "name": "stdout",
     "output_type": "stream",
     "text": [
      "       pedestrians_killed  cyclist_killed  motorist_killed  total_killed\n",
      "3508                    0               0                0           NaN\n",
      "20163                   0               0                0           NaN\n",
      "22046                   0               0                1           0.0\n",
      "48719                   0               0                0           NaN\n",
      "55148                   0               0                0           NaN\n",
      "55699                   0               0                0           NaN\n"
     ]
    }
   ],
   "source": [
    "killed_mask = manual_killed_sum != killed['total_killed']\n",
    "killed_not_eq = killed[killed_mask]\n",
    "print(killed_not_eq)"
   ]
  },
  {
   "cell_type": "markdown",
   "metadata": {},
   "source": [
    "We can categorize these into two categories:\n",
    "\n",
    "- Five rows where the total_killed is not equal to the sum of the other columns because the total value is missing.\n",
    "- One row where the total_killed is less than the sum of the other columns.\n",
    "\n",
    "From this, we can conclude that filling null values with the sum of the columns is a fairly good choice for our imputation, given that only six rows out of around 58,000 don't match this pattern."
   ]
  },
  {
   "cell_type": "code",
   "execution_count": 10,
   "metadata": {},
   "outputs": [
    {
     "name": "stdout",
     "output_type": "stream",
     "text": [
      "       pedestrians_killed  cyclist_killed  motorist_killed  total_killed\n",
      "3508                    0               0                0           0.0\n",
      "20163                   0               0                0           0.0\n",
      "22046                   0               0                1           NaN\n",
      "48719                   0               0                0           0.0\n",
      "55148                   0               0                0           0.0\n",
      "55699                   0               0                0           0.0\n"
     ]
    }
   ],
   "source": [
    "killed['total_killed'] = killed['total_killed'].mask(killed['total_killed'].isnull(),manual_killed_sum)\n",
    "killed['total_killed'] = killed['total_killed'].mask(killed['total_killed'] != manual_killed_sum,np.nan)\n",
    "print(killed[killed_mask])\n"
   ]
  },
  {
   "cell_type": "markdown",
   "metadata": {},
   "source": [
    "#### For injured  columns"
   ]
  },
  {
   "cell_type": "code",
   "execution_count": 11,
   "metadata": {},
   "outputs": [
    {
     "name": "stdout",
     "output_type": "stream",
     "text": [
      "       pedestrians_injured  cyclist_injured  motorist_injured  total_injured\n",
      "1222                     0                0                 1            NaN\n",
      "3263                     0                0                 3            NaN\n",
      "3362                     0                0                 0            NaN\n",
      "3508                     0                0                 0            NaN\n",
      "10989                    0                0                 0            NaN\n",
      "12885                    1                0                 0            NaN\n",
      "13344                    0                0                 0            NaN\n",
      "15213                    0                0                 0            NaN\n",
      "20163                    0                0                 0            NaN\n",
      "20978                    0                0                 0            NaN\n",
      "23276                    0                0                 1            NaN\n",
      "24907                    1                0                 0            NaN\n",
      "28330                    0                0                 2            NaN\n",
      "31299                    0                0                 0            NaN\n",
      "37520                    0                0                 0            NaN\n",
      "42089                    0                0                 0            NaN\n",
      "42179                    0                0                 0            NaN\n",
      "48596                    0                2                 0            NaN\n",
      "51518                    0                0                 1            NaN\n",
      "55699                    0                0                 1            1.0\n",
      "55930                    0                0                 0            NaN\n",
      "56100                    3                0                 1            NaN\n"
     ]
    }
   ],
   "source": [
    "injured = mvc[[col for col in mvc.columns if 'injured' in col]].copy()\n",
    "injured_manual_sum = injured.iloc[:,:3].sum(axis=1)\n",
    "injured_mask = injured_manual_sum != injured['total_injured']\n",
    "injured['total_injured'] = injured['total_injured'].mask(injured['total_injured'].isnull(),injured_manual_sum)\n",
    "injured['total_injured'] = injured['total_injured'].mask(injured['total_injured'] != injured_manual_sum, np.nan)\n",
    "print(injured[injured_mask])"
   ]
  },
  {
   "cell_type": "code",
   "execution_count": 12,
   "metadata": {},
   "outputs": [
    {
     "name": "stdout",
     "output_type": "stream",
     "text": [
      "0.0    57814\n",
      "1.0       49\n",
      "NaN        1\n",
      "Name: total_killed, dtype: int64\n",
      "\n",
      "0.0     46615\n",
      "1.0      8590\n",
      "2.0      1737\n",
      "3.0       550\n",
      "4.0       223\n",
      "5.0        77\n",
      "6.0        27\n",
      "NaN        21\n",
      "7.0        16\n",
      "9.0         2\n",
      "15.0        1\n",
      "10.0        1\n",
      "13.0        1\n",
      "14.0        1\n",
      "22.0        1\n",
      "8.0         1\n",
      "Name: total_injured, dtype: int64\n"
     ]
    }
   ],
   "source": [
    "mvc['total_injured'] = injured['total_injured']\n",
    "mvc['total_killed'] = killed['total_killed']\n",
    "print(mvc['total_killed'].value_counts(dropna=False))\n",
    "print()\n",
    "print(mvc['total_injured'].value_counts(dropna=False))\n",
    "      "
   ]
  },
  {
   "cell_type": "markdown",
   "metadata": {},
   "source": [
    "The total killed and total injured columns has been cleaned. The incorrect item identify and corrected.\n",
    "\n"
   ]
  },
  {
   "cell_type": "markdown",
   "metadata": {},
   "source": [
    "##### Analyzing the vehicle column"
   ]
  },
  {
   "cell_type": "code",
   "execution_count": 13,
   "metadata": {},
   "outputs": [
    {
     "name": "stdout",
     "output_type": "stream",
     "text": [
      "Station Wagon/Sport Utility Vehicle    38480\n",
      "Sedan                                  33133\n",
      "PASSENGER VEHICLE                      16026\n",
      "Taxi                                    3482\n",
      "Pick-up Truck                           2373\n",
      "TAXI                                    1892\n",
      "Box Truck                               1659\n",
      "Bike                                    1190\n",
      "Bus                                     1162\n",
      "PICK-UP TRUCK                           1144\n",
      "dtype: int64\n"
     ]
    }
   ],
   "source": [
    "v_cols = [c for c in mvc.columns if c.startswith(\"vehicle\")]\n",
    "vehicles = mvc[v_cols]\n",
    "vehicles_1d = vehicles.stack()\n",
    "vehicles_1d = vehicles_1d.mask(vehicles_1d == 'SPORT UTILITY / STATION WAGON','Station Wagon/Sport Utility Vehicle')\n",
    "top10_vehicles = vehicles_1d.value_counts().head(10)\n",
    "\n",
    "print(top10_vehicles)"
   ]
  },
  {
   "cell_type": "markdown",
   "metadata": {},
   "source": [
    "plotting the top ten vehicles"
   ]
  },
  {
   "cell_type": "code",
   "execution_count": 14,
   "metadata": {},
   "outputs": [],
   "source": [
    "import matplotlib.pyplot as plt\n",
    "%matplotlib inline"
   ]
  },
  {
   "cell_type": "code",
   "execution_count": 15,
   "metadata": {},
   "outputs": [
    {
     "data": {
      "text/plain": [
       "Text(0.5, 1.0, 'Top 10 vehicle count plot')"
      ]
     },
     "execution_count": 15,
     "metadata": {},
     "output_type": "execute_result"
    },
    {
     "data": {
      "image/png": "[encoded data removed]",
      "text/plain": [
       "<Figure size 432x288 with 1 Axes>"
      ]
     },
     "metadata": {
      "needs_background": "light"
     },
     "output_type": "display_data"
    }
   ],
   "source": [
    "barplot = top10_vehicles.plot(kind = 'bar')\n",
    "barplot.set_ylabel('Number of vehicles')\n",
    "barplot.set_xlabel('Vehicles')\n",
    "barplot.set_title('Top 10 vehicle count plot')"
   ]
  },
  {
   "cell_type": "code",
   "execution_count": 16,
   "metadata": {},
   "outputs": [],
   "source": [
    "v_missing_mask = mvc['vehicle_1'].isnull() & mvc['cause_vehicle_1'].notnull()\n",
    "c_missing_mask = mvc['cause_vehicle_1'].isnull() & mvc['vehicle_1'].notnull()\n",
    "\n",
    "# replace the values matching the mask for each column\n",
    "# replace the values matching the mask for each column\n",
    "mvc['vehicle_1'] =  mvc['vehicle_1'].mask(v_missing_mask, \"Unspecified\")\n",
    "mvc['cause_vehicle_1'] =  mvc['cause_vehicle_1'].mask(c_missing_mask, \"Unspecified\")"
   ]
  },
  {
   "cell_type": "code",
   "execution_count": 20,
   "metadata": {},
   "outputs": [
    {
     "name": "stdout",
     "output_type": "stream",
     "text": [
      "204\n",
      "12657\n"
     ]
    }
   ],
   "source": [
    "print(mvc['vehicle_1'].value_counts()['Unspecified'])\n",
    "print(mvc['cause_vehicle_1'].value_counts()['Unspecified'])"
   ]
  },
  {
   "cell_type": "code",
   "execution_count": null,
   "metadata": {},
   "outputs": [],
   "source": []
  }
 ],
 "metadata": {
  "kernelspec": {
   "display_name": "Python 3",
   "language": "python",
   "name": "python3"
  },
  "language_info": {
   "codemirror_mode": {
    "name": "ipython",
    "version": 3
   },
   "file_extension": ".py",
   "mimetype": "text/x-python",
   "name": "python",
   "nbconvert_exporter": "python",
   "pygments_lexer": "ipython3",
   "version": "3.7.6"
  }
 },
 "nbformat": 4,
 "nbformat_minor": 4
}
